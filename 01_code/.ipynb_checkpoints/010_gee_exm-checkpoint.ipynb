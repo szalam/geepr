{
 "cells": [
  {
   "cell_type": "code",
   "execution_count": 1,
   "metadata": {},
   "outputs": [
    {
     "name": "stderr",
     "output_type": "stream",
     "text": [
      "C:\\Users\\sarfa\\Anaconda3\\envs\\gee\\lib\\site-packages\\pyproj\\__init__.py:89: UserWarning: pyproj unable to set database path.\n",
      "  _pyproj_global_context_initialize()\n"
     ]
    }
   ],
   "source": [
    "import ee\n",
    "import tqdm\n",
    "import numpy as np\n",
    "import pandas as pd\n",
    "import geopandas as gp\n",
    "\n",
    "import rsfuncs as gn\n",
    "import numpy as np\n",
    "import pandas as pd\n",
    "import geopandas as gp\n",
    "import matplotlib.pyplot as plt\n",
    "\n",
    "from tqdm import tqdm"
   ]
  },
  {
   "cell_type": "code",
   "execution_count": null,
   "metadata": {},
   "outputs": [],
   "source": [
    "ee.Authenticate()\n",
    "ee.Initialize()"
   ]
  },
  {
   "cell_type": "code",
   "execution_count": 3,
   "metadata": {},
   "outputs": [
    {
     "data": {
      "text/html": [
       "<div>\n",
       "<style scoped>\n",
       "    .dataframe tbody tr th:only-of-type {\n",
       "        vertical-align: middle;\n",
       "    }\n",
       "\n",
       "    .dataframe tbody tr th {\n",
       "        vertical-align: top;\n",
       "    }\n",
       "\n",
       "    .dataframe thead th {\n",
       "        text-align: right;\n",
       "    }\n",
       "</style>\n",
       "<table border=\"1\" class=\"dataframe\">\n",
       "  <thead>\n",
       "    <tr style=\"text-align: right;\">\n",
       "      <th></th>\n",
       "      <th>product name</th>\n",
       "      <th>ImageCollection</th>\n",
       "      <th>Variable Name</th>\n",
       "      <th>Scaling Factor</th>\n",
       "      <th>spatial resolution</th>\n",
       "    </tr>\n",
       "  </thead>\n",
       "  <tbody>\n",
       "    <tr>\n",
       "      <th>53</th>\n",
       "      <td>landsat_8_b1</td>\n",
       "      <td>ee.ImageCollection({\\n  \"functionInvocationVal...</td>\n",
       "      <td>B1</td>\n",
       "      <td>0.001</td>\n",
       "      <td>30</td>\n",
       "    </tr>\n",
       "    <tr>\n",
       "      <th>54</th>\n",
       "      <td>l8_ndwi_32d</td>\n",
       "      <td>ee.ImageCollection({\\n  \"functionInvocationVal...</td>\n",
       "      <td>NDWI</td>\n",
       "      <td>1</td>\n",
       "      <td>30</td>\n",
       "    </tr>\n",
       "    <tr>\n",
       "      <th>55</th>\n",
       "      <td>l8_ndwi_annual</td>\n",
       "      <td>ee.ImageCollection({\\n  \"functionInvocationVal...</td>\n",
       "      <td>NDWI</td>\n",
       "      <td>1</td>\n",
       "      <td>30</td>\n",
       "    </tr>\n",
       "    <tr>\n",
       "      <th>56</th>\n",
       "      <td>cdl</td>\n",
       "      <td>ee.ImageCollection({\\n  \"functionInvocationVal...</td>\n",
       "      <td>cropland</td>\n",
       "      <td>1</td>\n",
       "      <td>30</td>\n",
       "    </tr>\n",
       "    <tr>\n",
       "      <th>57</th>\n",
       "      <td>nlcd</td>\n",
       "      <td>ee.ImageCollection({\\n  \"functionInvocationVal...</td>\n",
       "      <td>landcover</td>\n",
       "      <td>1</td>\n",
       "      <td>30</td>\n",
       "    </tr>\n",
       "  </tbody>\n",
       "</table>\n",
       "</div>"
      ],
      "text/plain": [
       "      product name                                    ImageCollection  \\\n",
       "53    landsat_8_b1  ee.ImageCollection({\\n  \"functionInvocationVal...   \n",
       "54     l8_ndwi_32d  ee.ImageCollection({\\n  \"functionInvocationVal...   \n",
       "55  l8_ndwi_annual  ee.ImageCollection({\\n  \"functionInvocationVal...   \n",
       "56             cdl  ee.ImageCollection({\\n  \"functionInvocationVal...   \n",
       "57            nlcd  ee.ImageCollection({\\n  \"functionInvocationVal...   \n",
       "\n",
       "   Variable Name Scaling Factor spatial resolution  \n",
       "53            B1          0.001                 30  \n",
       "54          NDWI              1                 30  \n",
       "55          NDWI              1                 30  \n",
       "56      cropland              1                 30  \n",
       "57     landcover              1                 30  "
      ]
     },
     "execution_count": 3,
     "metadata": {},
     "output_type": "execute_result"
    }
   ],
   "source": [
    "# Load some EE Image Collections\n",
    "data = gn.load_data()\n",
    "data_df = pd.DataFrame.from_dict(data).T.reset_index()\n",
    "data_df.columns = ['product name', 'ImageCollection','Variable Name','Scaling Factor', 'spatial resolution']\n",
    "data_df.tail()"
   ]
  },
  {
   "cell_type": "markdown",
   "metadata": {},
   "source": [
    "## Plotting precipitation for a polygon on los angeles county"
   ]
  },
  {
   "cell_type": "code",
   "execution_count": 5,
   "metadata": {},
   "outputs": [
    {
     "data": {
      "text/plain": [
       "<AxesSubplot:>"
      ]
     },
     "execution_count": 5,
     "metadata": {},
     "output_type": "execute_result"
    },
    {
     "data": {
      "image/png": "[encoded data removed]",
      "text/plain": [
       "<Figure size 432x288 with 1 Axes>"
      ]
     },
     "metadata": {
      "needs_background": "light"
     },
     "output_type": "display_data"
    }
   ],
   "source": [
    "#read shape of los angeles county\n",
    "gdf = gp.read_file(\"../03_shape/LA_KT.shp\")\n",
    "gdf.plot()"
   ]
  },
  {
   "cell_type": "markdown",
   "metadata": {},
   "source": [
    "### Plot PRISM data"
   ]
  },
  {
   "cell_type": "code",
   "execution_count": 6,
   "metadata": {},
   "outputs": [
    {
     "name": "stdout",
     "output_type": "stream",
     "text": [
      "processing:\n",
      "OREGONSTATE/PRISM/AN81m/189501\n"
     ]
    },
    {
     "name": "stderr",
     "output_type": "stream",
     "text": [
      "100%|██████████████████████████████████████████████████████████████████████████████████| 48/48 [00:15<00:00,  3.13it/s]\n"
     ]
    },
    {
     "name": "stdout",
     "output_type": "stream",
     "text": [
      "postprocesing\n"
     ]
    },
    {
     "name": "stderr",
     "output_type": "stream",
     "text": [
      "100%|██████████████████████████████████████████████████████████████████████████████████| 48/48 [00:00<00:00, 88.33it/s]"
     ]
    },
    {
     "name": "stdout",
     "output_type": "stream",
     "text": [
      "====COMPLETE=====\n"
     ]
    },
    {
     "name": "stderr",
     "output_type": "stream",
     "text": [
      "\n"
     ]
    }
   ],
   "source": [
    "# specify start / end \n",
    "startdate = '2018-01-01'\n",
    "enddate = '2021-12-31'\n",
    "\n",
    "# Convert gdf to ee object\n",
    "area = gn.gdf_to_ee_poly(gdf)\n",
    "\n",
    "prism = gn.get_ims(data['prism'], startdate, enddate, area)"
   ]
  },
  {
   "cell_type": "code",
   "execution_count": 7,
   "metadata": {},
   "outputs": [
    {
     "name": "stderr",
     "output_type": "stream",
     "text": [
      "C:\\Users\\sarfa\\Anaconda3\\envs\\gee\\lib\\site-packages\\ipykernel_launcher.py:2: RuntimeWarning: Mean of empty slice\n",
      "  \n",
      "C:\\Users\\sarfa\\Anaconda3\\envs\\gee\\lib\\site-packages\\ipykernel_launcher.py:3: RuntimeWarning: Mean of empty slice\n",
      "  This is separate from the ipykernel package so we can avoid doing imports until\n"
     ]
    }
   ],
   "source": [
    "# stack the ims and calc mean\n",
    "annual_mean = np.nanmean(np.dstack(prism), axis = 2)\n",
    "timeseries = np.array([np.nanmean(x) for x in prism])"
   ]
  },
  {
   "cell_type": "code",
   "execution_count": 8,
   "metadata": {},
   "outputs": [
    {
     "data": {
      "image/png": "[encoded data removed]",
      "text/plain": [
       "<Figure size 432x288 with 2 Axes>"
      ]
     },
     "metadata": {
      "needs_background": "light"
     },
     "output_type": "display_data"
    }
   ],
   "source": [
    "# plot\n",
    "plt.imshow(annual_mean)\n",
    "plt.colorbar()\n",
    "plt.axis('off')\n",
    "plt.show()"
   ]
  },
  {
   "cell_type": "code",
   "execution_count": 9,
   "metadata": {},
   "outputs": [
    {
     "data": {
      "text/plain": [
       "[<matplotlib.lines.Line2D at 0x24640220c88>]"
      ]
     },
     "execution_count": 9,
     "metadata": {},
     "output_type": "execute_result"
    },
    {
     "data": {
      "image/png": "[encoded data removed]",
      "text/plain": [
       "<Figure size 432x288 with 1 Axes>"
      ]
     },
     "metadata": {
      "needs_background": "light"
     },
     "output_type": "display_data"
    }
   ],
   "source": [
    "dates = pd.date_range(startdate,enddate, freq = \"M\")\n",
    "plt.plot(dates, timeseries)"
   ]
  },
  {
   "cell_type": "code",
   "execution_count": 10,
   "metadata": {},
   "outputs": [],
   "source": [
    "# write \n",
    "#gn.write_raster(annual_mean,gdf,\"../prism.tif\")"
   ]
  },
  {
   "cell_type": "code",
   "execution_count": 11,
   "metadata": {},
   "outputs": [
    {
     "data": {
      "text/plain": [
       "0          modis_aet\n",
       "1          modis_pet\n",
       "2          gldas_aet\n",
       "3          gldas_pet\n",
       "4          nldas_pet\n",
       "5             tc_aet\n",
       "6             tc_pet\n",
       "7           gmet_etr\n",
       "8           gmet_eto\n",
       "9          fldas_aet\n",
       "10              trmm\n",
       "11             prism\n",
       "12            chirps\n",
       "13          persiann\n",
       "14              dmet\n",
       "15               gpm\n",
       "16         fldas_swe\n",
       "17         gldas_swe\n",
       "18          dmet_swe\n",
       "19            tc_swe\n",
       "20              tc_r\n",
       "21         fldas_ssr\n",
       "22         fldas_bfr\n",
       "23         gldas_ssr\n",
       "24         gldas_bfr\n",
       "25         gldas_qsm\n",
       "26           ecmwf_r\n",
       "27             tc_sm\n",
       "28              fsm1\n",
       "29              fsm2\n",
       "30              fsm3\n",
       "31              fsm4\n",
       "32        gldas_rzsm\n",
       "33              gsm1\n",
       "34              gsm2\n",
       "35              gsm3\n",
       "36              gsm4\n",
       "37          smap_ssm\n",
       "38         smap_susm\n",
       "39          smap_smp\n",
       "40          smos_ssm\n",
       "41         smos_susm\n",
       "42          smos_smp\n",
       "43              srtm\n",
       "44               jpl\n",
       "45               csr\n",
       "46               gfz\n",
       "47               mas\n",
       "48           mas_unc\n",
       "49               cri\n",
       "50           cri_unc\n",
       "51        modis_snow\n",
       "52        modis_ndvi\n",
       "53      landsat_8_b1\n",
       "54       l8_ndwi_32d\n",
       "55    l8_ndwi_annual\n",
       "56               cdl\n",
       "57              nlcd\n",
       "Name: product name, dtype: object"
      ]
     },
     "execution_count": 11,
     "metadata": {},
     "output_type": "execute_result"
    }
   ],
   "source": [
    "data_df['product name']"
   ]
  },
  {
   "cell_type": "code",
   "execution_count": null,
   "metadata": {},
   "outputs": [],
   "source": []
  }
 ],
 "metadata": {
  "kernelspec": {
   "display_name": "gee",
   "language": "python",
   "name": "gee"
  },
  "language_info": {
   "codemirror_mode": {
    "name": "ipython",
    "version": 3
   },
   "file_extension": ".py",
   "mimetype": "text/x-python",
   "name": "python",
   "nbconvert_exporter": "python",
   "pygments_lexer": "ipython3",
   "version": "3.7.12"
  }
 },
 "nbformat": 4,
 "nbformat_minor": 2
}
